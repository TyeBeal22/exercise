{
  "nbformat": 4,
  "nbformat_minor": 0,
  "metadata": {
    "colab": {
      "name": "numbers.ipynb",
      "provenance": [],
      "authorship_tag": "ABX9TyMxLosmwxhDd0kdqiDJqtEV",
      "include_colab_link": true
    },
    "kernelspec": {
      "name": "python3",
      "display_name": "Python 3"
    }
  },
  "cells": [
    {
      "cell_type": "markdown",
      "metadata": {
        "id": "view-in-github",
        "colab_type": "text"
      },
      "source": [
        "<a href=\"https://colab.research.google.com/github/TyeBeal22/exercise/blob/master/numbers.ipynb\" target=\"_parent\"><img src=\"https://colab.research.google.com/assets/colab-badge.svg\" alt=\"Open In Colab\"/></a>"
      ]
    },
    {
      "cell_type": "code",
      "metadata": {
        "id": "pDbBZPkulh8w",
        "outputId": "ea4965c2-c886-459d-e9b4-1b3fafd5cf77",
        "colab": {
          "base_uri": "https://localhost:8080/"
        }
      },
      "source": [
        "a = 3\n",
        "b = 4\n",
        "print (a)"
      ],
      "execution_count": 2,
      "outputs": [
        {
          "output_type": "stream",
          "text": [
            "3\n"
          ],
          "name": "stdout"
        }
      ]
    },
    {
      "cell_type": "code",
      "metadata": {
        "id": "domlfi2plsR4",
        "outputId": "f701e510-add2-49db-efdd-846e992f4d0e",
        "colab": {
          "base_uri": "https://localhost:8080/"
        }
      },
      "source": [
        "a = 4\n",
        "print (a)"
      ],
      "execution_count": 5,
      "outputs": [
        {
          "output_type": "stream",
          "text": [
            "4\n"
          ],
          "name": "stdout"
        }
      ]
    },
    {
      "cell_type": "code",
      "metadata": {
        "id": "AOgc6SK2lyOZ",
        "outputId": "acaee846-83b3-4ea0-f64d-54b4b34766da",
        "colab": {
          "base_uri": "https://localhost:8080/"
        }
      },
      "source": [
        "a = \"Tye\"\n",
        "print(a)\n",
        "a = 4\n",
        "print (a)"
      ],
      "execution_count": 10,
      "outputs": [
        {
          "output_type": "stream",
          "text": [
            "Tye\n",
            "4\n"
          ],
          "name": "stdout"
        }
      ]
    },
    {
      "cell_type": "code",
      "metadata": {
        "id": "74Fku07Hslo8",
        "outputId": "636ade91-1c8b-41b2-9cd6-57b7dc846785",
        "colab": {
          "base_uri": "https://localhost:8080/"
        }
      },
      "source": [
        "firstName = \"Tye\"\n",
        "lastName = \"Beal\"\n",
        "print(firstName,lastName)"
      ],
      "execution_count": 11,
      "outputs": [
        {
          "output_type": "stream",
          "text": [
            "Tye Beal\n"
          ],
          "name": "stdout"
        }
      ]
    },
    {
      "cell_type": "code",
      "metadata": {
        "id": "8hEZpiK8stEk",
        "outputId": "1cae01dc-518c-4541-808b-d3963fe5472d",
        "colab": {
          "base_uri": "https://localhost:8080/"
        }
      },
      "source": [
        "aList = [1,2,7,9,3,3,8,9.9,4,5]\n",
        "bList = [10,11,12]\n",
        "cList = ['tye','beal','mark']\n",
        "print(aList)\n",
        "\n",
        "str(aList)\n",
        "\n",
        "\n",
        "print(cList)\n",
        "\n",
        "aList.pop()\n",
        "print(aList)\n",
        "\n",
        "\n",
        "aList.count(3)\n",
        "\n"
      ],
      "execution_count": 20,
      "outputs": [
        {
          "output_type": "stream",
          "text": [
            "[1, 2, 7, 9, 3, 3, 8, 9.9, 4, 5]\n",
            "['tye', 'beal', 'mark']\n",
            "[1, 2, 7, 9, 3, 3, 8, 9.9, 4]\n"
          ],
          "name": "stdout"
        },
        {
          "output_type": "execute_result",
          "data": {
            "text/plain": [
              "2"
            ]
          },
          "metadata": {
            "tags": []
          },
          "execution_count": 20
        }
      ]
    },
    {
      "cell_type": "code",
      "metadata": {
        "id": "ZylTWYPDofX0",
        "outputId": "a0a1e208-5277-467a-dae0-fa04c46624af",
        "colab": {
          "base_uri": "https://localhost:8080/"
        }
      },
      "source": [
        "import numpy as np\n",
        "\n",
        "np.linspace(1,80,20)\n",
        "\n"
      ],
      "execution_count": 21,
      "outputs": [
        {
          "output_type": "execute_result",
          "data": {
            "text/plain": [
              "array([ 1.        ,  5.15789474,  9.31578947, 13.47368421, 17.63157895,\n",
              "       21.78947368, 25.94736842, 30.10526316, 34.26315789, 38.42105263,\n",
              "       42.57894737, 46.73684211, 50.89473684, 55.05263158, 59.21052632,\n",
              "       63.36842105, 67.52631579, 71.68421053, 75.84210526, 80.        ])"
            ]
          },
          "metadata": {
            "tags": []
          },
          "execution_count": 21
        }
      ]
    },
    {
      "cell_type": "code",
      "metadata": {
        "id": "JoJlUa4TvoaL",
        "outputId": "0f33c05a-dfde-45bf-d592-b48d79b7a269",
        "colab": {
          "base_uri": "https://localhost:8080/"
        }
      },
      "source": [
        "import pandas as pd\n",
        "\n",
        "\n",
        "numbers = np.random.randn(100) * 5 + 5\n",
        "\n",
        "numbers\n",
        "\n"
      ],
      "execution_count": 25,
      "outputs": [
        {
          "output_type": "execute_result",
          "data": {
            "text/plain": [
              "array([ 1.8252473 , -5.39043754,  0.0798002 , 12.9949168 , 15.18732245,\n",
              "        5.80290467,  4.20091421,  6.14984051,  3.8432471 ,  2.50333677,\n",
              "        2.80620685, 11.71021334, 13.67169535, -3.06334066, 12.72535046,\n",
              "        7.27223463,  7.6945447 ,  9.20929769, -1.06430758, -3.54047859,\n",
              "        1.51435138,  4.93436591, 12.94233157,  1.4660919 , -3.98501085,\n",
              "        2.30493467,  2.92903344, -2.2601359 ,  3.19389651, 10.4205336 ,\n",
              "        7.92356656, 10.39666779,  7.21743632,  7.98582801,  4.57769526,\n",
              "        4.9006806 ,  6.71699199,  3.62054027,  3.0294328 ,  4.09671814,\n",
              "        7.64419403,  8.59784984, -2.58891905,  3.76515207,  8.18051819,\n",
              "        6.86776673,  8.28434616,  9.49696015,  0.12768955,  7.70963579,\n",
              "        3.47763118,  3.77053792,  4.60228966, 11.15344431,  4.58793229,\n",
              "        3.07982613,  8.52406816,  3.71533812, -0.70692292, -4.1337953 ,\n",
              "       -2.06283173,  3.26158581,  8.76879508, 16.48642495,  7.34524829,\n",
              "        0.75045928,  2.17470001,  2.35626387,  9.81570889,  9.73112578,\n",
              "        9.21263856,  9.64505345,  2.19694833,  2.0290926 ,  7.81003693,\n",
              "       -6.58495996, 20.07226377, 16.48337604, -1.05847025,  7.63197761,\n",
              "        5.11562105,  8.08528796,  1.66806549, 12.43135399,  4.85088706,\n",
              "        0.19392922, -0.80434041,  7.14923717,  7.09654064,  4.40319486,\n",
              "        5.81598231,  2.41705148, 13.28279936, -1.17313109,  0.47942132,\n",
              "       12.71401671,  3.01847402,  9.09637834,  8.85796978, 10.33565518])"
            ]
          },
          "metadata": {
            "tags": []
          },
          "execution_count": 25
        }
      ]
    },
    {
      "cell_type": "code",
      "metadata": {
        "id": "uUDnP29aDBaP",
        "outputId": "02c05635-100c-4de7-f380-d9bd62c379dd",
        "colab": {
          "base_uri": "https://localhost:8080/",
          "height": 359
        }
      },
      "source": [
        "nums = np.array(range(1,11))\n",
        "nums\n",
        "D = {'intergers':nums,'square': nums**2,'logs':np.log(nums)}\n",
        "\n",
        "chart = pd.DataFrame(D)\n",
        "chart"
      ],
      "execution_count": 36,
      "outputs": [
        {
          "output_type": "execute_result",
          "data": {
            "text/html": [
              "<div>\n",
              "<style scoped>\n",
              "    .dataframe tbody tr th:only-of-type {\n",
              "        vertical-align: middle;\n",
              "    }\n",
              "\n",
              "    .dataframe tbody tr th {\n",
              "        vertical-align: top;\n",
              "    }\n",
              "\n",
              "    .dataframe thead th {\n",
              "        text-align: right;\n",
              "    }\n",
              "</style>\n",
              "<table border=\"1\" class=\"dataframe\">\n",
              "  <thead>\n",
              "    <tr style=\"text-align: right;\">\n",
              "      <th></th>\n",
              "      <th>intergers</th>\n",
              "      <th>square</th>\n",
              "      <th>logs</th>\n",
              "    </tr>\n",
              "  </thead>\n",
              "  <tbody>\n",
              "    <tr>\n",
              "      <th>0</th>\n",
              "      <td>1</td>\n",
              "      <td>1</td>\n",
              "      <td>0.000000</td>\n",
              "    </tr>\n",
              "    <tr>\n",
              "      <th>1</th>\n",
              "      <td>2</td>\n",
              "      <td>4</td>\n",
              "      <td>0.693147</td>\n",
              "    </tr>\n",
              "    <tr>\n",
              "      <th>2</th>\n",
              "      <td>3</td>\n",
              "      <td>9</td>\n",
              "      <td>1.098612</td>\n",
              "    </tr>\n",
              "    <tr>\n",
              "      <th>3</th>\n",
              "      <td>4</td>\n",
              "      <td>16</td>\n",
              "      <td>1.386294</td>\n",
              "    </tr>\n",
              "    <tr>\n",
              "      <th>4</th>\n",
              "      <td>5</td>\n",
              "      <td>25</td>\n",
              "      <td>1.609438</td>\n",
              "    </tr>\n",
              "    <tr>\n",
              "      <th>5</th>\n",
              "      <td>6</td>\n",
              "      <td>36</td>\n",
              "      <td>1.791759</td>\n",
              "    </tr>\n",
              "    <tr>\n",
              "      <th>6</th>\n",
              "      <td>7</td>\n",
              "      <td>49</td>\n",
              "      <td>1.945910</td>\n",
              "    </tr>\n",
              "    <tr>\n",
              "      <th>7</th>\n",
              "      <td>8</td>\n",
              "      <td>64</td>\n",
              "      <td>2.079442</td>\n",
              "    </tr>\n",
              "    <tr>\n",
              "      <th>8</th>\n",
              "      <td>9</td>\n",
              "      <td>81</td>\n",
              "      <td>2.197225</td>\n",
              "    </tr>\n",
              "    <tr>\n",
              "      <th>9</th>\n",
              "      <td>10</td>\n",
              "      <td>100</td>\n",
              "      <td>2.302585</td>\n",
              "    </tr>\n",
              "  </tbody>\n",
              "</table>\n",
              "</div>"
            ],
            "text/plain": [
              "   intergers  square      logs\n",
              "0          1       1  0.000000\n",
              "1          2       4  0.693147\n",
              "2          3       9  1.098612\n",
              "3          4      16  1.386294\n",
              "4          5      25  1.609438\n",
              "5          6      36  1.791759\n",
              "6          7      49  1.945910\n",
              "7          8      64  2.079442\n",
              "8          9      81  2.197225\n",
              "9         10     100  2.302585"
            ]
          },
          "metadata": {
            "tags": []
          },
          "execution_count": 36
        }
      ]
    }
  ]
}