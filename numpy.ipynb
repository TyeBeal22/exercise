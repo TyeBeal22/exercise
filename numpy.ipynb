{
  "nbformat": 4,
  "nbformat_minor": 0,
  "metadata": {
    "colab": {
      "name": "Untitled0.ipynb",
      "provenance": [],
      "authorship_tag": "ABX9TyOHL3rhzM/EbpMF/QKypRV7",
      "include_colab_link": true
    },
    "kernelspec": {
      "name": "python3",
      "display_name": "Python 3"
    }
  },
  "cells": [
    {
      "cell_type": "markdown",
      "metadata": {
        "id": "view-in-github",
        "colab_type": "text"
      },
      "source": [
        "<a href=\"https://colab.research.google.com/github/TyeBeal22/exercise/blob/master/numpy.ipynb\" target=\"_parent\"><img src=\"https://colab.research.google.com/assets/colab-badge.svg\" alt=\"Open In Colab\"/></a>"
      ]
    },
    {
      "cell_type": "code",
      "metadata": {
        "id": "pDbBZPkulh8w",
        "outputId": "ea4965c2-c886-459d-e9b4-1b3fafd5cf77",
        "colab": {
          "base_uri": "https://localhost:8080/"
        }
      },
      "source": [
        "a = 3\n",
        "b = 4\n",
        "print (a)"
      ],
      "execution_count": 2,
      "outputs": [
        {
          "output_type": "stream",
          "text": [
            "3\n"
          ],
          "name": "stdout"
        }
      ]
    },
    {
      "cell_type": "code",
      "metadata": {
        "id": "domlfi2plsR4",
        "outputId": "f701e510-add2-49db-efdd-846e992f4d0e",
        "colab": {
          "base_uri": "https://localhost:8080/"
        }
      },
      "source": [
        "a = 4\n",
        "print (a)"
      ],
      "execution_count": 5,
      "outputs": [
        {
          "output_type": "stream",
          "text": [
            "4\n"
          ],
          "name": "stdout"
        }
      ]
    },
    {
      "cell_type": "code",
      "metadata": {
        "id": "AOgc6SK2lyOZ",
        "outputId": "acaee846-83b3-4ea0-f64d-54b4b34766da",
        "colab": {
          "base_uri": "https://localhost:8080/"
        }
      },
      "source": [
        "a = \"Tye\"\n",
        "print(a)\n",
        "a = 4\n",
        "print (a)"
      ],
      "execution_count": 10,
      "outputs": [
        {
          "output_type": "stream",
          "text": [
            "Tye\n",
            "4\n"
          ],
          "name": "stdout"
        }
      ]
    },
    {
      "cell_type": "code",
      "metadata": {
        "id": "74Fku07Hslo8",
        "outputId": "636ade91-1c8b-41b2-9cd6-57b7dc846785",
        "colab": {
          "base_uri": "https://localhost:8080/"
        }
      },
      "source": [
        "firstName = \"Tye\"\n",
        "lastName = \"Beal\"\n",
        "print(firstName,lastName)"
      ],
      "execution_count": 11,
      "outputs": [
        {
          "output_type": "stream",
          "text": [
            "Tye Beal\n"
          ],
          "name": "stdout"
        }
      ]
    },
    {
      "cell_type": "code",
      "metadata": {
        "id": "8hEZpiK8stEk",
        "outputId": "df56ce56-a5a7-4a7a-a09c-8527e77b350c",
        "colab": {
          "base_uri": "https://localhost:8080/"
        }
      },
      "source": [
        "aList = [1,2,7,9,3,3,8,9.9,4,5]\n",
        "bList = [10,11,12]\n",
        "cList = ['tye','beal','mark']\n",
        "print(aList)\n",
        "\n",
        "str(aList)\n",
        "\n",
        "\n",
        "print(cList)\n",
        "\n",
        "aList.pop()\n",
        "print(aList)\n",
        "\n",
        "\n",
        "aList.count(3)\n",
        "\n"
      ],
      "execution_count": 18,
      "outputs": [
        {
          "output_type": "stream",
          "text": [
            "[1, 2, 7, 9, 3, 3, 8, 9.9, 4, 5]\n",
            "['tye', 'beal', 'mark']\n",
            "[1, 2, 7, 9, 3, 3, 8, 9.9, 4]\n"
          ],
          "name": "stdout"
        },
        {
          "output_type": "execute_result",
          "data": {
            "text/plain": [
              "2"
            ]
          },
          "metadata": {
            "tags": []
          },
          "execution_count": 18
        }
      ]
    },
    {
      "cell_type": "code",
      "metadata": {
        "id": "ZylTWYPDofX0",
        "outputId": "204560fd-4e2f-4abd-8846-4d670740dbc7",
        "colab": {
          "base_uri": "https://localhost:8080/"
        }
      },
      "source": [
        "import numpy as np\n",
        "\n",
        "np.linspace(1,80,20)\n",
        "\n"
      ],
      "execution_count": 19,
      "outputs": [
        {
          "output_type": "execute_result",
          "data": {
            "text/plain": [
              "array([ 1.        ,  5.15789474,  9.31578947, 13.47368421, 17.63157895,\n",
              "       21.78947368, 25.94736842, 30.10526316, 34.26315789, 38.42105263,\n",
              "       42.57894737, 46.73684211, 50.89473684, 55.05263158, 59.21052632,\n",
              "       63.36842105, 67.52631579, 71.68421053, 75.84210526, 80.        ])"
            ]
          },
          "metadata": {
            "tags": []
          },
          "execution_count": 19
        }
      ]
    }
  ]
}